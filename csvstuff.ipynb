{
 "metadata": {
  "name": "",
  "signature": "sha256:77543a6ef175849433e70caee41a5774d8ef6f1626b996ef9ba1d7e5d9902ae1"
 },
 "nbformat": 3,
 "nbformat_minor": 0,
 "worksheets": [
  {
   "cells": [
    {
     "cell_type": "code",
     "collapsed": false,
     "input": [
      "fordtypes = {0: \"icon/suitableforall.png\",\n",
      "            1: \"icon/suitableforall.png\",\n",
      "            2: \"icon/irishbridge.png\",\n",
      "            3: \"icon/4by4.png\",\n",
      "            4: \"icon/restricted\",\n",
      "            5: \"icon/restricted\"}\n",
      "\n",
      "coords = []\n",
      "\n",
      "with open('Fords.csv', 'rb') as f:\n",
      "    reader = csv.reader(f)\n",
      "    reader.next()\n",
      "    for row in reader:\n",
      "        if row[0] != \"\":\n",
      "            coords.append([row[3], row[2], fordtypes[int(row[7])]])\n",
      "    "
     ],
     "language": "python",
     "metadata": {},
     "outputs": [],
     "prompt_number": 21
    },
    {
     "cell_type": "code",
     "collapsed": false,
     "input": [
      "coords[2]"
     ],
     "language": "python",
     "metadata": {},
     "outputs": [
      {
       "metadata": {},
       "output_type": "pyout",
       "prompt_number": 22,
       "text": [
        "['-3.1288', '57.0897', 'icon/restricted']"
       ]
      }
     ],
     "prompt_number": 22
    },
    {
     "cell_type": "code",
     "collapsed": false,
     "input": [],
     "language": "python",
     "metadata": {},
     "outputs": []
    }
   ],
   "metadata": {}
  }
 ]
}
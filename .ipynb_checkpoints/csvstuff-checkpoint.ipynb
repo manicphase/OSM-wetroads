{
 "metadata": {
  "name": "",
  "signature": "sha256:c89829ad750850cb54431f3b68a31776ce64ad93d260069239dc27a25d7e4f44"
 },
 "nbformat": 3,
 "nbformat_minor": 0,
 "worksheets": []
}